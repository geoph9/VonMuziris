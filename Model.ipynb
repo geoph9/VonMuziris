{
 "cells": [
  {
   "cell_type": "code",
   "execution_count": 1,
   "metadata": {
    "id": "QtoYxZb3S5la"
   },
   "outputs": [
    {
     "name": "stderr",
     "output_type": "stream",
     "text": [
      "/home/geoph/Documents/python-related/torchenv/lib64/python3.10/site-packages/tqdm/auto.py:22: TqdmWarning: IProgress not found. Please update jupyter and ipywidgets. See https://ipywidgets.readthedocs.io/en/stable/user_install.html\n",
      "  from .autonotebook import tqdm as notebook_tqdm\n"
     ]
    }
   ],
   "source": [
    "import torch\n",
    "import torch.nn as nn\n",
    "import torch.nn.init\n",
    "import torchvision.models as models\n",
    "from torch.utils.data import DataLoader, Dataset\n",
    "from torchvision import transforms\n",
    "\n",
    "from torchtext.models import ROBERTA_BASE_ENCODER\n",
    "from torchtext.functional import to_tensor\n",
    "\n",
    "import numpy as np\n",
    "import pandas as pd\n",
    "import glob\n",
    "import os\n",
    "from PIL import Image"
   ]
  },
  {
   "cell_type": "code",
   "execution_count": 2,
   "metadata": {
    "id": "fZCreGW3b-Eq"
   },
   "outputs": [],
   "source": [
    "def normalization(X):\n",
    "    \"\"\"L2-normalization of features columns\"\"\"\n",
    "    norm = torch.pow(X, 2).sum(dim=1, keepdim=True).sqrt()\n",
    "    X = torch.div(X, norm)\n",
    "    \n",
    "    return X"
   ]
  },
  {
   "cell_type": "code",
   "execution_count": 3,
   "metadata": {
    "id": "cVbV8r2fTFQv"
   },
   "outputs": [],
   "source": [
    "class ImageEncoder(nn.Module):\n",
    "\n",
    "  def __init__(self, embedding_size, cnn_type):\n",
    "    \"\"\"Initializing parameters\"\"\"\n",
    "    super(ImageEncoder).__init__()\n",
    "    self.embedding_size = embedding_size # Size of projected image\n",
    "    self.cnn = self.load_cnn(cnn_type)\n",
    "\n",
    "    # No need to finetune parameters = frozen layers\n",
    "    for param in self.cnn.parameters():\n",
    "        param.requires_grad = False\n",
    "\n",
    "    # Replacing last fully connected layer with new one\n",
    "    self.fc = nn.Linear(self.cnn.classifier._modules['6'].in_features, embedding_size)\n",
    "    self.cnn.classifier = nn.Sequential(*list(self.cnn.classifier.children())[:-1])\n",
    "\n",
    "    # Initializing the weights of fully-connected layer, which makes projection to new space\n",
    "    self.initialization_weights()\n",
    "  \n",
    "  def load_cnn(self, cnn_type):\n",
    "    \"\"\"Loading pretrained model\"\"\"\n",
    "    model = models.__dict__[cnn_type](pretrained=True)\n",
    "\n",
    "    return model\n",
    "\n",
    "  def initialization_weights(self):\n",
    "    \"\"\"Xavier initialization\"\"\"\n",
    "    r = np.sqrt(6.) / np.sqrt(self.fc.in_features + self.fc.out_features)\n",
    "    self.fc.weight.data.uniform_(-r, r)\n",
    "    self.fc.bias.data.fill_(0)\n",
    "\n",
    "  def forward(self, X):\n",
    "    \"\"\"Creation of features\"\"\"\n",
    "    # Creation of embeddings\n",
    "    features = self.cnn(X)\n",
    "\n",
    "    # Normalization of embeddings\n",
    "    features = normalization(features)\n",
    "\n",
    "    # Projection to new space\n",
    "    features = self.fc(features)\n",
    "\n",
    "    return features"
   ]
  },
  {
   "cell_type": "code",
   "execution_count": 4,
   "metadata": {},
   "outputs": [],
   "source": [
    "ROBERTA_OUT_DIM = 768\n",
    "\n",
    "class TextEncoder(nn.Module):\n",
    "\n",
    "    def __init__(self, embedding_size):\n",
    "        \"\"\"Initializing parameters\"\"\"\n",
    "        super(TextEncoder).__init__()\n",
    "        self.embedding_size = embedding_size # Size of projected text\n",
    "        self.roberta = ROBERTA_BASE_ENCODER.get_model()\n",
    "        self.transform = ROBERTA_BASE_ENCODER.transform()\n",
    "\n",
    "        # Linear layer\n",
    "        self.fc = nn.Linear(ROBERTA_OUT_DIM, embedding_size)\n",
    "\n",
    "        # Initializing the weights of fully-connected layer, which makes projection to new space\n",
    "        self.initialization_weights()\n",
    "        \n",
    "    def _roberta_encode(self, batch):\n",
    "        transformed = self.transform(batch)\n",
    "        model_input = to_tensor(transformed, padding_value=1)\n",
    "        return self.roberta(model_input)\n",
    "\n",
    "    def initialization_weights(self):\n",
    "        \"\"\"Xavier initialization\"\"\"\n",
    "        r = np.sqrt(6.) / np.sqrt(self.fc.in_features + self.fc.out_features)\n",
    "        self.fc.weight.data.uniform_(-r, r)\n",
    "        self.fc.bias.data.fill_(0)\n",
    "\n",
    "    def forward(self, X, lengths=None):\n",
    "        \"\"\"Creation of features\"\"\"\n",
    "        # Creation of embeddings\n",
    "        features = self._roberta_encode(X)\n",
    "\n",
    "        # Normalization of embeddings\n",
    "        features = normalization(features)\n",
    "\n",
    "        # Projection to new space\n",
    "        features = self.fc(features)\n",
    "\n",
    "        return features"
   ]
  },
  {
   "cell_type": "code",
   "execution_count": 5,
   "metadata": {},
   "outputs": [],
   "source": [
    "class FullEncoder(nn.Module):\n",
    "\n",
    "    def __init__(self, embedding_size, cnn_type):\n",
    "        \"\"\"Initializing parameters\"\"\"\n",
    "        super(FullEncoder).__init__()\n",
    "        self.embedding_size = embedding_size # Size of projected text\n",
    "        self.image_encoder = ImageEncoder(embedding_size)\n",
    "        self.text_encoder = TextEncoder(embedding_size)\n",
    "\n",
    "    def forward(self, X):\n",
    "        \"\"\"Creation of features\"\"\"\n",
    "        img_feas = self.image_encoder(X)\n",
    "        txt_feas = self.text_encoder(X)\n",
    "        return img_feas, txt_feas"
   ]
  },
  {
   "cell_type": "code",
   "execution_count": 12,
   "metadata": {},
   "outputs": [
    {
     "name": "stdout",
     "output_type": "stream",
     "text": [
      "torch.Size([1, 9, 768])\n"
     ]
    },
    {
     "data": {
      "text/plain": [
       "tensor([[[-0.1720,  0.3779, -0.1899,  ..., -0.6369, -0.4730, -0.1509],\n",
       "         [-0.1646, -0.2277, -0.1225,  ..., -0.3788, -0.0618,  0.0266],\n",
       "         [ 0.3021,  0.0470,  0.0477,  ..., -0.5150, -0.1109,  0.1990],\n",
       "         ...,\n",
       "         [-0.0529, -0.0704,  0.0889,  ...,  0.0667, -0.1826, -0.2713],\n",
       "         [ 0.0733, -0.1830,  0.0620,  ..., -0.1513, -0.0279, -0.2905],\n",
       "         [-0.0012,  0.0454, -0.0357,  ..., -0.1739, -0.1121, -0.0572]]],\n",
       "       grad_fn=<TransposeBackward0>)"
      ]
     },
     "execution_count": 12,
     "metadata": {},
     "output_type": "execute_result"
    }
   ],
   "source": [
    "ex = '18 Kt Rose Gold Supreme Swan Charm Bracelet The Supreme Swan Charm Bracelet is the symbol of love, peace and grace. Gift this to a loved one that adds these elements to your life. Made in Sterling Silver with a rose gold polish.'\n",
    "ex = \"this is a test with 7 words\"\n",
    "roberta = ROBERTA_BASE_ENCODER.get_model()\n",
    "transform = ROBERTA_BASE_ENCODER.transform()\n",
    "transformed = transform([ex])\n",
    "model_input = to_tensor(transformed, padding_value=1)\n",
    "out = roberta(model_input)\n",
    "print(out.shape)\n",
    "out"
   ]
  },
  {
   "cell_type": "code",
   "execution_count": 7,
   "metadata": {},
   "outputs": [],
   "source": [
    "ex2 = ['18 Kt Rose Gold Supreme Swan Charm Bracelet The Supreme Swan Charm Bracelet is the symbol of love, peace and grace. Gift this to a loved one that adds these elements to your life. Made in Sterling Silver with a rose gold polish.',\n",
    " '18 Kt Yellow Gold Stardust Earrings Crafted with perfection, Talisman’s Sterling Silver Stud Earrings are perfect accessory to double up your stellar look. Whether it is an important work meeting or a night out with your besties, we have got you covered! Elevate your outfits with our fresh, everyday styles.',\n",
    " '18 Kt Yellow Gold Bliss Square Earrings Crafted with perfection, Talisman’s Sterling Silver Stud Earrings are perfect accessory to double up your stellar look. Whether it is an important work meeting or a night out with your besties, we have got you covered! Elevate your outfits with our fresh, everyday styles.',\n",
    " '18 Kt Yellow Gold Fiery Flame Earrings Crafted with perfection, Talisman’s Sterling Silver Stud Earrings are perfect accessory to double up your stellar look. Whether it is an important work meeting or a night out with your besties, we have got you covered! Elevate your outfits with our fresh, everyday styles.',\n",
    " '18 Kt Yellow Gold Sparkling Star Earrings Crafted with perfection, Talisman’s Sterling Silver Stud Earrings are perfect accessory to double up your stellar look. Whether it is an important work meeting or a night out with your besties, we have got you covered! Elevate your outfits with our fresh, everyday styles.',\n",
    " '18 Kt Rose Gold Queen of Heart Earrings Crafted with perfection, Talisman’s Sterling Silver Stud Earrings are perfect accessory to double up your stellar look. Whether it is an important work meeting or a night out with your besties, we have got you covered! Elevate your outfits with our fresh, everyday styles.',\n",
    " '18 Kt Rose Gold First Steps Earrings Crafted with perfection, Talisman’s Sterling Silver Stud Earrings are perfect accessory to double up your stellar look. Whether it is an important work meeting or a night out with your besties, we have got you covered! Elevate your outfits with our fresh, everyday styles.',\n",
    " '18 Kt Yellow Gold Wide-Eye Owl Earring Crafted with perfection, Talisman’s Sterling Silver Stud Earrings are perfect accessory to double up your stellar look. Whether it is an important work meeting or a night out with your besties, we have got you covered! Elevate your outfits with our fresh, everyday styles.',\n",
    " '18 Kt Yellow Gold XOXO Milennial Earrings Crafted with perfection, Talisman’s Sterling Silver Stud Earrings are perfect accessory to double up your stellar look. Whether it is an important work meeting or a night out with your besties, we have got you covered! Elevate your outfits with our fresh, everyday styles.',\n",
    " '18 Kt Rose Gold Cute Kitty Earrings Crafted with perfection, Talisman’s Sterling Silver Stud Earrings are perfect accessory to double up your stellar look. Whether it is an important work meeting or a night out with your besties, we have got you covered! Elevate your outfits with our fresh, everyday styles.',]"
   ]
  },
  {
   "cell_type": "code",
   "execution_count": 8,
   "metadata": {},
   "outputs": [
    {
     "data": {
      "text/plain": [
       "str"
      ]
     },
     "execution_count": 8,
     "metadata": {},
     "output_type": "execute_result"
    }
   ],
   "source": [
    "type(ex2[0])"
   ]
  },
  {
   "cell_type": "code",
   "execution_count": 9,
   "metadata": {},
   "outputs": [
    {
     "name": "stdout",
     "output_type": "stream",
     "text": [
      "torch.Size([10, 72, 768])\n"
     ]
    }
   ],
   "source": [
    "roberta = ROBERTA_BASE_ENCODER.get_model()\n",
    "transform = ROBERTA_BASE_ENCODER.transform()\n",
    "transformed = transform(ex2)\n",
    "model_input = to_tensor(transformed, padding_value=1)\n",
    "out = roberta(model_input)\n",
    "print(out.shape)"
   ]
  },
  {
   "cell_type": "code",
   "execution_count": null,
   "metadata": {},
   "outputs": [],
   "source": []
  }
 ],
 "metadata": {
  "colab": {
   "collapsed_sections": [],
   "name": "model.ipynb",
   "provenance": []
  },
  "kernelspec": {
   "display_name": "Torch CPU",
   "language": "python",
   "name": "torchenv"
  },
  "language_info": {
   "codemirror_mode": {
    "name": "ipython",
    "version": 3
   },
   "file_extension": ".py",
   "mimetype": "text/x-python",
   "name": "python",
   "nbconvert_exporter": "python",
   "pygments_lexer": "ipython3",
   "version": "3.10.5"
  }
 },
 "nbformat": 4,
 "nbformat_minor": 4
}
